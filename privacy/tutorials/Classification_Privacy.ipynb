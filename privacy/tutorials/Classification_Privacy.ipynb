{
 "cells": [
  {
   "cell_type": "markdown",
   "metadata": {
    "colab_type": "text",
    "id": "view-in-github"
   },
   "source": [
    "<a href=\"https://colab.research.google.com/github/tensorflow/privacy/blob/master/tutorials/Classification_Privacy.ipynb\" target=\"_parent\"><img src=\"https://colab.research.google.com/assets/colab-badge.svg\" alt=\"Open In Colab\"/></a>"
   ]
  },
  {
   "cell_type": "markdown",
   "metadata": {
    "colab_type": "text",
    "id": "XAVN6c8prKOL"
   },
   "source": [
    "##### Copyright 2019 The TensorFlow Authors.\n",
    "\n",
    "\n"
   ]
  },
  {
   "cell_type": "code",
   "execution_count": 1,
   "metadata": {
    "cellView": "both",
    "colab": {},
    "colab_type": "code",
    "id": "SassPC7WQAUO"
   },
   "outputs": [],
   "source": [
    "#@title Licensed under the Apache License, Version 2.0 (the \"License\");\n",
    "# you may not use this file except in compliance with the License.\n",
    "# You may obtain a copy of the License at\n",
    "#\n",
    "# https://www.apache.org/licenses/LICENSE-2.0\n",
    "#\n",
    "# Unless required by applicable law or agreed to in writing, software\n",
    "# distributed under the License is distributed on an \"AS IS\" BASIS,\n",
    "# WITHOUT WARRANTIES OR CONDITIONS OF ANY KIND, either express or implied.\n",
    "# See the License for the specific language governing permissions and\n",
    "# limitations under the License."
   ]
  },
  {
   "cell_type": "markdown",
   "metadata": {
    "colab_type": "text",
    "id": "KwDK47gfLsYf"
   },
   "source": [
    "# Implement Differential Privacy with TensorFlow Privacy"
   ]
  },
  {
   "cell_type": "markdown",
   "metadata": {
    "colab_type": "text",
    "id": "MfBg1C5NB3X0"
   },
   "source": [
    "<table class=\"tfo-notebook-buttons\" align=\"left\">\n",
    "  <td>\n",
    "    <a target=\"_blank\" href=\"https://colab.research.google.com/github/tensorflow/privacy/blob/master/tutorials/Classification_Privacy.ipynb\"><img src=\"https://www.tensorflow.org/images/colab_logo_32px.png\" />Run in Google Colab</a>\n",
    "  </td>\n",
    "  <td>\n",
    "    <a target=\"_blank\" href=\"https://github.com/tensorflow/privacy/blob/master/tutorials/Classification_Privacy.ipynb\"><img src=\"https://www.tensorflow.org/images/GitHub-Mark-32px.png\" />View source on GitHub</a>\n",
    "  </td>\n",
    "</table>"
   ]
  },
  {
   "cell_type": "markdown",
   "metadata": {
    "colab_type": "text",
    "id": "00fQV7e0Unz3"
   },
   "source": [
    "## Overview"
   ]
  },
  {
   "cell_type": "markdown",
   "metadata": {
    "colab_type": "text",
    "id": "TUphKzYu01O9"
   },
   "source": [
    "[Differential privacy](https://en.wikipedia.org/wiki/Differential_privacy) (DP) is a framework for measuring the privacy guarantees provided by an algorithm. Through the lens of differential privacy, we can design machine learning algorithms that responsibly train models on private data. Learning with differential privacy provides provable guarantees of privacy, mitigating the risk of exposing sensitive training data in machine learning. Intuitively, a model trained with differential privacy should not be affected by any single training example, or small set of training examples, in its data set. This mitigates the risk of exposing sensitive training data in ML.\n",
    "\n",
    "The basic idea of this approach, called differentially private stochastic gradient descent (DP-SGD), is to modify the gradients\n",
    "used in stochastic gradient descent (SGD), which lies at the core of almost all deep learning algorithms. Models trained with DP-SGD provide provable differential privacy guarantees for their input data. There are two modifications made to the vanilla SGD algorithm:\n",
    "\n",
    "1. First, the sensitivity of each gradient needs to be bounded. In other words, we need to limit how much each individual training point sampled in a minibatch can influence gradient computations and the resulting updates applied to model parameters. This can be done by *clipping* each gradient computed on each training point.\n",
    "2. *Random noise* is sampled and added to the clipped gradients to make it statistically impossible to know whether or not a particular data point was included in the training dataset by comparing the updates SGD applies when it operates with or without this particular data point in the training dataset.\n",
    "\n",
    "This tutorial uses [tf.keras](https://www.tensorflow.org/guide/keras) to train a convolutional neural network (CNN) to recognize handwritten digits with the DP-SGD optimizer provided by the TensorFlow Privacy library. TensorFlow Privacy provides code that wraps an existing TensorFlow optimizer to create a variant that implements DP-SGD."
   ]
  },
  {
   "cell_type": "markdown",
   "metadata": {
    "colab_type": "text",
    "id": "ijJYKVc05DYX"
   },
   "source": [
    "## Setup"
   ]
  },
  {
   "cell_type": "markdown",
   "metadata": {
    "colab_type": "text",
    "id": "CKuHPYQCsV-x"
   },
   "source": [
    "First, set this notebook's runtime to use a GPU, under Runtime > Change runtime type > Hardware accelerator. Then, begin importing the necessary libraries."
   ]
  },
  {
   "cell_type": "code",
   "execution_count": 2,
   "metadata": {
    "colab": {},
    "colab_type": "code",
    "id": "ef56gCUqrdVn"
   },
   "outputs": [],
   "source": [
    "from __future__ import absolute_import\n",
    "from __future__ import division\n",
    "from __future__ import print_function\n",
    "\n",
    "import os\n",
    "os.environ[\"CUDA_VISIBLE_DEVICES\"] = \"3\"\n",
    "\n",
    "try:\n",
    "  # %tensorflow_version only exists in Colab.\n",
    "  %tensorflow_version 1.x\n",
    "except Exception:\n",
    "  pass\n",
    "\n",
    "import tensorflow as tf\n",
    "\n",
    "import numpy as np\n",
    "\n",
    "tf.compat.v1.logging.set_verbosity(tf.logging.ERROR)"
   ]
  },
  {
   "cell_type": "markdown",
   "metadata": {
    "colab_type": "text",
    "id": "r_fVhfUyeI3d"
   },
   "source": [
    "Install TensorFlow Privacy."
   ]
  },
  {
   "cell_type": "code",
   "execution_count": 3,
   "metadata": {
    "colab": {},
    "colab_type": "code",
    "id": "RseeuA7veIHU"
   },
   "outputs": [
    {
     "name": "stdout",
     "output_type": "stream",
     "text": [
      "Requirement already satisfied: tensorflow_privacy in /home/qinghao/gradient/privacy (0.2.2)\r\n",
      "Requirement already satisfied: scipy>=0.17 in /home/qinghao/anaconda3/lib/python3.7/site-packages (from tensorflow_privacy) (1.3.1)\r\n",
      "Requirement already satisfied: mpmath in /home/qinghao/anaconda3/lib/python3.7/site-packages (from tensorflow_privacy) (1.1.0)\r\n"
     ]
    }
   ],
   "source": [
    "!pip install tensorflow_privacy\n",
    "\n",
    "from tensorflow_privacy.privacy.analysis import compute_dp_sgd_privacy\n",
    "from tensorflow_privacy.privacy.optimizers.dp_optimizer import DPAdamGaussianOptimizer"
   ]
  },
  {
   "cell_type": "markdown",
   "metadata": {
    "colab_type": "text",
    "id": "mU1p8N7M5Mmn"
   },
   "source": [
    "## Load and pre-process the dataset\n",
    "\n",
    "Load the [MNIST](http://yann.lecun.com/exdb/mnist/) dataset and prepare the data for training."
   ]
  },
  {
   "cell_type": "code",
   "execution_count": 4,
   "metadata": {
    "colab": {},
    "colab_type": "code",
    "id": "_1ML23FlueTr"
   },
   "outputs": [],
   "source": [
    "train, test = tf.keras.datasets.mnist.load_data()\n",
    "train_data, train_labels = train\n",
    "test_data, test_labels = test\n",
    "\n",
    "train_data = np.array(train_data, dtype=np.float32) / 255\n",
    "test_data = np.array(test_data, dtype=np.float32) / 255\n",
    "\n",
    "train_data = train_data.reshape(train_data.shape[0], 28, 28, 1)\n",
    "test_data = test_data.reshape(test_data.shape[0], 28, 28, 1)\n",
    "\n",
    "train_labels = np.array(train_labels, dtype=np.int32)\n",
    "test_labels = np.array(test_labels, dtype=np.int32)\n",
    "\n",
    "train_labels = tf.keras.utils.to_categorical(train_labels, num_classes=10)\n",
    "test_labels = tf.keras.utils.to_categorical(test_labels, num_classes=10)\n",
    "\n",
    "assert train_data.min() == 0.\n",
    "assert train_data.max() == 1.\n",
    "assert test_data.min() == 0.\n",
    "assert test_data.max() == 1."
   ]
  },
  {
   "cell_type": "code",
   "execution_count": 5,
   "metadata": {},
   "outputs": [
    {
     "name": "stdout",
     "output_type": "stream",
     "text": [
      "60000 10000\n"
     ]
    }
   ],
   "source": [
    "print(train_data.shape[0], test_data.shape[0])"
   ]
  },
  {
   "cell_type": "markdown",
   "metadata": {
    "colab_type": "text",
    "id": "xVDcswOCtlr3"
   },
   "source": [
    "## Define and tune learning model hyperparameters\n",
    "Set learning model hyperparamter values. \n",
    "\n"
   ]
  },
  {
   "cell_type": "code",
   "execution_count": 6,
   "metadata": {
    "colab": {},
    "colab_type": "code",
    "id": "E14tL1vUuTRV"
   },
   "outputs": [],
   "source": [
    "epochs = 2\n",
    "batch_size = 125"
   ]
  },
  {
   "cell_type": "markdown",
   "metadata": {
    "colab_type": "text",
    "id": "qXNp_25y7JP2"
   },
   "source": [
    "DP-SGD has three privacy-specific hyperparameters and one existing hyperamater that you must tune:\n",
    "\n",
    "1. `l2_norm_clip` (float) - The maximum Euclidean (L2) norm of each gradient that is applied to update model parameters. This hyperparameter is used to bound the optimizer's sensitivity to individual training points. \n",
    "2. `noise_multiplier` (float) - The amount of noise sampled and added to gradients during training. Generally, more noise results in better privacy (often, but not necessarily, at the expense of lower utility).\n",
    "3.   `microbatches` (int) - Each batch of data is split in smaller units called microbatches. By default, each microbatch should contain a single training example. This allows us to clip gradients on a per-example basis rather than after they have been averaged across the minibatch. This in turn decreases the (negative) effect of clipping on signal found in the gradient and typically maximizes utility. However, computational overhead can be reduced by increasing the size of microbatches to include more than one training examples. The average gradient across these multiple training examples is then clipped. The total number of examples consumed in a batch, i.e., one step of gradient descent, remains the same. The number of microbatches should evenly divide the batch size. \n",
    "4. `learning_rate` (float) - This hyperparameter already exists in vanilla SGD. The higher the learning rate, the more each update matters. If the updates are noisy (such as when the additive noise is large compared to the clipping threshold), a low learning rate may help the training procedure converge. \n",
    "\n",
    "Use the hyperparameter values below to obtain a reasonably accurate model (95% test accuracy):"
   ]
  },
  {
   "cell_type": "code",
   "execution_count": 7,
   "metadata": {
    "colab": {},
    "colab_type": "code",
    "id": "pVw_r2Mq7ntd"
   },
   "outputs": [],
   "source": [
    "l2_norm_clip = 4\n",
    "noise_multiplier = 4\n",
    "num_microbatches = batch_size\n",
    "\n",
    "if batch_size % num_microbatches != 0:\n",
    "  raise ValueError('Batch size should be an integer multiple of the number of microbatches')"
   ]
  },
  {
   "cell_type": "markdown",
   "metadata": {
    "colab_type": "text",
    "id": "wXAmHcNOmHc5"
   },
   "source": [
    "## Build the learning model\n",
    "\n",
    "Define a convolutional neural network as the learning model. "
   ]
  },
  {
   "cell_type": "code",
   "execution_count": 8,
   "metadata": {
    "colab": {},
    "colab_type": "code",
    "id": "oCOo8aOLmFta"
   },
   "outputs": [],
   "source": [
    "from tensorflow.keras.layers import Dense, Dropout, Activation, Flatten\n",
    "from tensorflow.keras.layers import Conv2D, MaxPooling2D\n",
    "\n",
    "def get_model():\n",
    "    model = tf.keras.models.Sequential()\n",
    "    model.add(Flatten(input_shape=train_data.shape[1:]))\n",
    "    model.add(Dense(60, activation='linear', use_bias=False))\n",
    "    model.add(Dense(1000, activation='relu'))\n",
    "    model.add(Dense(10, activation='softmax'))\n",
    "    return model\n",
    "\n",
    "model1 = get_model()\n",
    "model2 = get_model()\n",
    "model2.set_weights(model1.get_weights())"
   ]
  },
  {
   "cell_type": "markdown",
   "metadata": {
    "colab_type": "text",
    "id": "FT4lByFg-I_r"
   },
   "source": [
    "Define the optimizer and loss function for the learning model. Compute the loss as a vector of losses per-example rather than as the mean over a minibatch to support gradient manipulation over each training point. "
   ]
  },
  {
   "cell_type": "code",
   "execution_count": 9,
   "metadata": {
    "colab": {},
    "colab_type": "code",
    "id": "bqBvjCf5-ZXy"
   },
   "outputs": [],
   "source": [
    "loss = tf.keras.losses.CategoricalCrossentropy(\n",
    "    from_logits=True, reduction=tf.losses.Reduction.NONE)\n",
    "\n",
    "optimizer1 = DPAdamGaussianOptimizer(\n",
    "    l2_norm_clip=l2_norm_clip,\n",
    "    noise_multiplier=noise_multiplier,\n",
    "    num_microbatches=num_microbatches)\n",
    "model1.compile(optimizer=optimizer1, loss=loss, metrics=['accuracy'])\n",
    "\n",
    "optimizer2 = DPAdamGaussianOptimizer(\n",
    "    l2_norm_clip=l2_norm_clip,\n",
    "    noise_multiplier=noise_multiplier,\n",
    "    num_microbatches=1)\n",
    "model2.compile(optimizer=optimizer2, loss=loss, metrics=['accuracy'])"
   ]
  },
  {
   "cell_type": "markdown",
   "metadata": {
    "colab_type": "text",
    "id": "LI_3nXzEGmrP"
   },
   "source": [
    "## Compile and train the learning model\n"
   ]
  },
  {
   "cell_type": "code",
   "execution_count": 10,
   "metadata": {
    "colab": {},
    "colab_type": "code",
    "id": "z4iV03VqG1Bo"
   },
   "outputs": [
    {
     "name": "stderr",
     "output_type": "stream",
     "text": [
      "Using TensorFlow backend.\n"
     ]
    },
    {
     "name": "stdout",
     "output_type": "stream",
     "text": [
      "stdev: Tensor(\"Cast_1:0\", shape=(), dtype=float32)\n"
     ]
    },
    {
     "data": {
      "application/vnd.jupyter.widget-view+json": {
       "model_id": "3160f538214943afbe4e6c140fe073ac",
       "version_major": 2,
       "version_minor": 0
      },
      "text/plain": [
       "HBox(children=(IntProgress(value=0, description='Training', max=2, style=ProgressStyle(description_width='init…"
      ]
     },
     "metadata": {},
     "output_type": "display_data"
    },
    {
     "data": {
      "application/vnd.jupyter.widget-view+json": {
       "model_id": "",
       "version_major": 2,
       "version_minor": 0
      },
      "text/plain": [
       "HBox(children=(IntProgress(value=0, description='Epoch 0', max=60000, style=ProgressStyle(description_width='i…"
      ]
     },
     "metadata": {},
     "output_type": "display_data"
    },
    {
     "data": {
      "application/vnd.jupyter.widget-view+json": {
       "model_id": "",
       "version_major": 2,
       "version_minor": 0
      },
      "text/plain": [
       "HBox(children=(IntProgress(value=0, description='Epoch 1', max=60000, style=ProgressStyle(description_width='i…"
      ]
     },
     "metadata": {},
     "output_type": "display_data"
    },
    {
     "name": "stdout",
     "output_type": "stream",
     "text": [
      "\n",
      "stdev: Tensor(\"Cast_3:0\", shape=(), dtype=float32)\n"
     ]
    },
    {
     "data": {
      "application/vnd.jupyter.widget-view+json": {
       "model_id": "5e39b2368c224803902de9f339156f84",
       "version_major": 2,
       "version_minor": 0
      },
      "text/plain": [
       "HBox(children=(IntProgress(value=0, description='Training', max=2, style=ProgressStyle(description_width='init…"
      ]
     },
     "metadata": {},
     "output_type": "display_data"
    },
    {
     "data": {
      "application/vnd.jupyter.widget-view+json": {
       "model_id": "",
       "version_major": 2,
       "version_minor": 0
      },
      "text/plain": [
       "HBox(children=(IntProgress(value=0, description='Epoch 0', max=60000, style=ProgressStyle(description_width='i…"
      ]
     },
     "metadata": {},
     "output_type": "display_data"
    },
    {
     "data": {
      "application/vnd.jupyter.widget-view+json": {
       "model_id": "",
       "version_major": 2,
       "version_minor": 0
      },
      "text/plain": [
       "HBox(children=(IntProgress(value=0, description='Epoch 1', max=60000, style=ProgressStyle(description_width='i…"
      ]
     },
     "metadata": {},
     "output_type": "display_data"
    },
    {
     "name": "stdout",
     "output_type": "stream",
     "text": [
      "\n"
     ]
    }
   ],
   "source": [
    "from keras_tqdm import TQDMNotebookCallback\n",
    "\n",
    "history1 = model1.fit(train_data, train_labels,\n",
    "              epochs=epochs,\n",
    "              verbose=0,\n",
    "              validation_data=(test_data, test_labels),\n",
    "              batch_size=batch_size,\n",
    "              callbacks=[TQDMNotebookCallback()])"
   ]
  },
  {
   "cell_type": "code",
   "execution_count": 15,
   "metadata": {},
   "outputs": [
    {
     "data": {
      "application/vnd.jupyter.widget-view+json": {
       "model_id": "ed2b93e401b54be9b54e983d8c809975",
       "version_major": 2,
       "version_minor": 0
      },
      "text/plain": [
       "HBox(children=(IntProgress(value=0, description='Training', max=2, style=ProgressStyle(description_width='init…"
      ]
     },
     "metadata": {},
     "output_type": "display_data"
    },
    {
     "data": {
      "application/vnd.jupyter.widget-view+json": {
       "model_id": "",
       "version_major": 2,
       "version_minor": 0
      },
      "text/plain": [
       "HBox(children=(IntProgress(value=0, description='Epoch 0', max=60000, style=ProgressStyle(description_width='i…"
      ]
     },
     "metadata": {},
     "output_type": "display_data"
    },
    {
     "data": {
      "application/vnd.jupyter.widget-view+json": {
       "model_id": "",
       "version_major": 2,
       "version_minor": 0
      },
      "text/plain": [
       "HBox(children=(IntProgress(value=0, description='Epoch 1', max=60000, style=ProgressStyle(description_width='i…"
      ]
     },
     "metadata": {},
     "output_type": "display_data"
    },
    {
     "name": "stdout",
     "output_type": "stream",
     "text": [
      "\n",
      "{'loss': [array([2.3115566, 2.314184 , 2.312775 , 2.3140068, 2.3146603, 2.3125741,\n",
      "       2.3139908, 2.3089828, 2.3161957, 2.3150184, 2.3165696, 2.3118834,\n",
      "       2.3132536, 2.3094146, 2.3149302, 2.3148363, 2.3150446, 2.31395  ,\n",
      "       2.3153777, 2.3111606, 2.3151307, 2.3159494, 2.3148367, 2.3122442,\n",
      "       2.3114786, 2.313223 , 2.3136907, 2.3148477, 2.3127863, 2.3125002,\n",
      "       2.3141048, 2.313562 , 2.3129675, 2.31294  , 2.316455 , 2.3146822,\n",
      "       2.3127816, 2.3148034, 2.3087823, 2.314356 , 2.312457 , 2.3150468,\n",
      "       2.3153248, 2.3132122, 2.3115232, 2.3148606, 2.3122506, 2.3145022,\n",
      "       2.3129573, 2.3129015, 2.315452 , 2.3130012, 2.3155658, 2.312521 ,\n",
      "       2.312659 , 2.314517 , 2.312969 , 2.3130329, 2.3126218, 2.3116736,\n",
      "       2.314357 , 2.3149145, 2.311935 , 2.3124526, 2.3117638, 2.3123415,\n",
      "       2.3143594, 2.3159494, 2.3124382, 2.3117402, 2.3155851, 2.3117657,\n",
      "       2.3148336, 2.3113523, 2.3132772, 2.3155499, 2.314317 , 2.3135364,\n",
      "       2.3149707, 2.3126402, 2.3132777, 2.3145278, 2.3123467, 2.311957 ,\n",
      "       2.3129623, 2.3161309, 2.3126078, 2.3140526, 2.312453 , 2.3128326,\n",
      "       2.313257 , 2.3146589, 2.3148363, 2.3131294, 2.3144543, 2.3132932,\n",
      "       2.3132648, 2.3119903, 2.314314 , 2.3122618, 2.3131835, 2.3131175,\n",
      "       2.3133307, 2.314936 , 2.3101487, 2.3158197, 2.314213 , 2.3111026,\n",
      "       2.3138833, 2.3139124, 2.3129127, 2.3112156, 2.3127959, 2.3133378,\n",
      "       2.3169339, 2.3119977, 2.313916 , 2.3136125, 2.3130007, 2.3133378,\n",
      "       2.3126287, 2.3132012, 2.3155646, 2.316987 , 2.3150504],\n",
      "      dtype=float32), array([2.316825 , 2.3154237, 2.314567 , 2.314784 , 2.3189447, 2.3174458,\n",
      "       2.3138046, 2.3148422, 2.320183 , 2.3157496, 2.3178706, 2.3142362,\n",
      "       2.3147464, 2.3149023, 2.31798  , 2.3160694, 2.3167868, 2.3156734,\n",
      "       2.3137467, 2.3167355, 2.3170013, 2.313933 , 2.318975 , 2.3136594,\n",
      "       2.3152215, 2.3150632, 2.313883 , 2.3172789, 2.3124428, 2.3192105,\n",
      "       2.3157227, 2.3147879, 2.315603 , 2.3171213, 2.313369 , 2.319109 ,\n",
      "       2.3149989, 2.3185828, 2.3167303, 2.3124533, 2.314249 , 2.3163283,\n",
      "       2.3146996, 2.3162324, 2.3185618, 2.3182573, 2.3156714, 2.315662 ,\n",
      "       2.313676 , 2.3158915, 2.320051 , 2.3147862, 2.3171842, 2.3202078,\n",
      "       2.3142014, 2.319967 , 2.3135214, 2.3176324, 2.3143861, 2.31638  ,\n",
      "       2.3150175, 2.3151793, 2.3178089, 2.3174753, 2.3153079, 2.3191848,\n",
      "       2.3132546, 2.3161438, 2.3146102, 2.3164306, 2.3142958, 2.3155801,\n",
      "       2.3168833, 2.31384  , 2.314584 , 2.3154595, 2.3208747, 2.3177009,\n",
      "       2.3156388, 2.3162582, 2.3170648, 2.3174725, 2.3194773, 2.316003 ,\n",
      "       2.315833 , 2.3175068, 2.3148062, 2.31787  , 2.3154206, 2.317916 ,\n",
      "       2.3137746, 2.3147426, 2.3163114, 2.3116987, 2.3162286, 2.3162677,\n",
      "       2.3180656, 2.3147447, 2.316965 , 2.312389 , 2.3184354, 2.3170571,\n",
      "       2.3139687, 2.312853 , 2.3160274, 2.3176315, 2.3177898, 2.3166368,\n",
      "       2.3189547, 2.3154497, 2.3139195, 2.3168626, 2.3128   , 2.3169959,\n",
      "       2.3142025, 2.3111176, 2.3193815, 2.31747  , 2.3112504, 2.315325 ,\n",
      "       2.3113906, 2.3149886, 2.3166213, 2.3163042, 2.3181558],\n",
      "      dtype=float32)], 'acc': [0.065633334, 0.0791], 'val_loss': [array([2.3128126, 2.3071964, 2.3204484, 2.3133526, 2.3163443, 2.3095458,\n",
      "       2.312096 , 2.316703 , 2.3194363, 2.3150299, 2.317226 , 2.3175595,\n",
      "       2.3148959, 2.3183777, 2.3152606, 2.3104837, 2.3149784, 2.3075087,\n",
      "       2.3085802, 2.301389 , 2.315232 , 2.3137548, 2.3148193, 2.31537  ,\n",
      "       2.317366 , 2.310395 , 2.316773 , 2.3119686, 2.3146682, 2.3139722,\n",
      "       2.3173428, 2.3109634, 2.315858 , 2.3095129, 2.3093007, 2.3012633,\n",
      "       2.315859 , 2.3193302, 2.3150241, 2.3137386, 2.3183842, 2.3167467,\n",
      "       2.3177195, 2.3152108, 2.3196669, 2.313953 , 2.313653 , 2.319795 ,\n",
      "       2.3114238, 2.3155913, 2.3178873, 2.314036 , 2.3175766, 2.3198075,\n",
      "       2.318008 , 2.31574  , 2.3220124, 2.3140414, 2.3192112, 2.322566 ,\n",
      "       2.3138993, 2.3203669, 2.316212 , 2.3221314, 2.309411 , 2.3063405,\n",
      "       2.3084877, 2.3125498, 2.3194506, 2.3196094, 2.3116946, 2.3189638,\n",
      "       2.3117096, 2.3183815, 2.3151057, 2.3149092, 2.3138573, 2.3252606,\n",
      "       2.312638 , 2.3082304, 2.3192441, 2.3073597, 2.3178153, 2.3201768,\n",
      "       2.3154438, 2.3146174, 2.32089  , 2.3115103, 2.3179438, 2.3088632,\n",
      "       2.325401 , 2.3128648, 2.307007 , 2.306841 , 2.31735  , 2.3151243,\n",
      "       2.3100083, 2.3076553, 2.3097005, 2.3036964, 2.314543 , 2.308931 ,\n",
      "       2.3070457, 2.3195703, 2.3179915, 2.315245 , 2.3240879, 2.3198774,\n",
      "       2.3165348, 2.311267 , 2.3141904, 2.3220272, 2.3145092, 2.3110852,\n",
      "       2.3085544, 2.3140771, 2.3163824, 2.3163493, 2.320299 , 2.312267 ,\n",
      "       2.3188396, 2.3149111, 2.3169024, 2.317581 , 2.3168802],\n",
      "      dtype=float32), array([2.319082 , 2.3151019, 2.3214388, 2.3138077, 2.3133552, 2.3192575,\n",
      "       2.3120375, 2.3109245, 2.31753  , 2.306205 , 2.3215122, 2.3204904,\n",
      "       2.3161764, 2.3229985, 2.323377 , 2.315053 , 2.3114407, 2.3093042,\n",
      "       2.3186977, 2.3199942, 2.313774 , 2.3161447, 2.298657 , 2.3193598,\n",
      "       2.3146396, 2.3179936, 2.3166418, 2.3154976, 2.316221 , 2.3128314,\n",
      "       2.3076017, 2.3214948, 2.3060298, 2.3248663, 2.3023794, 2.317002 ,\n",
      "       2.312108 , 2.3185737, 2.3152084, 2.319044 , 2.312771 , 2.3200982,\n",
      "       2.3196213, 2.3168447, 2.307787 , 2.3155904, 2.3169756, 2.3107824,\n",
      "       2.3144999, 2.3131287, 2.3216674, 2.3160133, 2.3188639, 2.3147256,\n",
      "       2.311814 , 2.3127203, 2.3184996, 2.3192172, 2.3114624, 2.313979 ,\n",
      "       2.3149009, 2.310281 , 2.3148417, 2.3140895, 2.3201132, 2.3133984,\n",
      "       2.3270211, 2.3131747, 2.3049564, 2.318711 , 2.309297 , 2.3151052,\n",
      "       2.3154526, 2.3153634, 2.3064473, 2.3125648, 2.316355 , 2.3049128,\n",
      "       2.316094 , 2.329066 , 2.3118348, 2.3047779, 2.316073 , 2.3118565,\n",
      "       2.3105333, 2.311901 , 2.318588 , 2.3175704, 2.313861 , 2.3182492,\n",
      "       2.3137383, 2.3221862, 2.3260722, 2.315167 , 2.3140945, 2.3166206,\n",
      "       2.3197756, 2.3112679, 2.3189893, 2.3119473, 2.3089535, 2.310911 ,\n",
      "       2.316028 , 2.3133984, 2.3225307, 2.3108077, 2.318948 , 2.305644 ,\n",
      "       2.3172991, 2.3139892, 2.311195 , 2.3221085, 2.3140588, 2.3165538,\n",
      "       2.3165948, 2.3067815, 2.312711 , 2.3114712, 2.3073394, 2.3065398,\n",
      "       2.3100505, 2.3257523, 2.3175416, 2.3079622, 2.30973  ],\n",
      "      dtype=float32)], 'val_acc': [0.0766, 0.0872]}\n"
     ]
    }
   ],
   "source": [
    "history2 = model2.fit(train_data, train_labels,\n",
    "              epochs=epochs,\n",
    "              verbose=0,\n",
    "              validation_data=(test_data, test_labels),\n",
    "              batch_size=batch_size,\n",
    "              callbacks=[TQDMNotebookCallback()])"
   ]
  },
  {
   "cell_type": "code",
   "execution_count": 14,
   "metadata": {},
   "outputs": [
    {
     "name": "stdout",
     "output_type": "stream",
     "text": [
      "10000/10000 [==============================] - 0s 18us/sample - loss: 2.2089 - acc: 0.2289\n",
      "10000/10000 [==============================] - 0s 18us/sample - loss: 2.3137 - acc: 0.0553\n"
     ]
    },
    {
     "data": {
      "text/plain": [
       "[array([2.3150878, 2.3166723, 2.3127902, 2.3144515, 2.3149774, 2.3113532,\n",
       "        2.3145554, 2.317671 , 2.3084848, 2.3159277, 2.3124838, 2.3109703,\n",
       "        2.3152692, 2.314456 , 2.3142643, 2.3074107, 2.317554 , 2.3180459,\n",
       "        2.3117397, 2.3148825, 2.3153903, 2.3190413, 2.3161092, 2.3155994,\n",
       "        2.3113635, 2.3143759, 2.3149283, 2.3124263, 2.3108752, 2.3104832,\n",
       "        2.3103964, 2.3150232, 2.3137095, 2.3173568, 2.3123753, 2.3152823,\n",
       "        2.3114722, 2.3138402, 2.3118317, 2.3151338, 2.3107417, 2.3159888,\n",
       "        2.3177946, 2.3127823, 2.3144133, 2.3122988, 2.3154962, 2.3126106,\n",
       "        2.3111014, 2.3161125, 2.3149257, 2.3127375, 2.3115873, 2.3084042,\n",
       "        2.3125913, 2.3130772, 2.312554 , 2.3114517, 2.3179696, 2.3125   ,\n",
       "        2.3133767, 2.3187768, 2.3164935, 2.3141224, 2.315609 , 2.3156095,\n",
       "        2.31598  , 2.3125684, 2.312866 , 2.315098 , 2.3083584, 2.315285 ,\n",
       "        2.3146412, 2.3086941, 2.308317 , 2.3157377, 2.3135242, 2.3108573,\n",
       "        2.3174312, 2.3139951, 2.312328 , 2.3121688, 2.310064 , 2.307839 ,\n",
       "        2.312537 , 2.3120656, 2.313928 , 2.3154182, 2.3147433, 2.3169427,\n",
       "        2.3090363, 2.311538 , 2.3143976, 2.3128748, 2.3145163, 2.3177376,\n",
       "        2.3158038, 2.3153718, 2.3100748, 2.316952 ], dtype=float32), 0.0553]"
      ]
     },
     "execution_count": 14,
     "metadata": {},
     "output_type": "execute_result"
    }
   ],
   "source": [
    "model1.evaluate(test_data, test_labels, batch_size=100)\n",
    "model2.evaluate(test_data, test_labels, batch_size=100)"
   ]
  },
  {
   "cell_type": "markdown",
   "metadata": {
    "colab_type": "text",
    "id": "TL7_lX5sHCTI"
   },
   "source": [
    "## Measure the differential privacy guarantee\n",
    "\n",
    "Perform a privacy analysis to measure the DP guarantee achieved by a training algorithm. Knowing the level of DP achieved enables the objective comparison of two training runs to determine which of the two is more privacy-preserving. At a high level, the privacy analysis measures how much a potential adversary can improve their guess about properties of any individual training point by observing the outcome of our training procedure (e.g., model updates and parameters). \n",
    "\n",
    "This guarantee is sometimes referred to as the **privacy budget**. A lower privacy budget bounds more tightly an adversary's ability to improve their guess. This ensures a stronger privacy guarantee. Intuitively, this is because it is harder for a single training point to affect the outcome of learning: for instance, the information contained in the training point cannot be memorized by the ML algorithm and the privacy of the individual who contributed this training point to the dataset is preserved.\n",
    "\n",
    "In this tutorial, the privacy analysis is performed in the framework of Rényi Differential Privacy (RDP), which is a relaxation of pure DP based on [this paper](https://arxiv.org/abs/1702.07476) that is particularly well suited for DP-SGD.\n",
    "\n",
    "\n",
    "\n"
   ]
  },
  {
   "cell_type": "markdown",
   "metadata": {
    "colab_type": "text",
    "id": "wUEk25pgmnm-"
   },
   "source": [
    "Two metrics are used to express the DP guarantee of an ML algorithm:\n",
    "\n",
    "1.   Delta ($\\delta$) - Bounds the probability of the privacy guarantee not holding. A rule of thumb is to set it to be less than the inverse of the size of the training dataset. In this tutorial, it is set to **10^-5** as the MNIST dataset has 60,000 training points.\n",
    "2.   Epsilon ($\\epsilon$) - This is the privacy budget. It measures the strength of the privacy guarantee by bounding how much the probability of a particular model output can vary by including (or excluding) a single training point. A smaller value for $\\epsilon$ implies a better privacy guarantee. However, the $\\epsilon$ value is only an upper bound and a large value could still mean good privacy in practice.\n",
    "\n",
    "Tensorflow Privacy provides a tool, `compute_dp_sgd_privacy.py`, to compute the value of $\\epsilon$ given a fixed value of $\\delta$ and the following hyperparameters from the training process:\n",
    "\n",
    "1.   The total number of points in the training data, `n`.\n",
    "2. The `batch_size`.\n",
    "3.   The `noise_multiplier`.\n",
    "4. The number of `epochs` of training.\n",
    "\n"
   ]
  },
  {
   "cell_type": "code",
   "execution_count": null,
   "metadata": {
    "colab": {},
    "colab_type": "code",
    "id": "ws8-nVuVDgtJ"
   },
   "outputs": [],
   "source": [
    "compute_dp_sgd_privacy.compute_dp_sgd_privacy(\n",
    "    n=train_data.shape[0], batch_size=batch_size, noise_multiplier=noise_multiplier, epochs=epochs, delta=1e-5)"
   ]
  },
  {
   "cell_type": "markdown",
   "metadata": {
    "colab_type": "text",
    "id": "c-KyttEWFRDc"
   },
   "source": [
    "The tool reports that for the hyperparameters chosen above, the trained model has an $\\epsilon$ value of 1.18."
   ]
  },
  {
   "cell_type": "markdown",
   "metadata": {
    "colab_type": "text",
    "id": "SA_9HMGBWFM3"
   },
   "source": [
    "## Summary\n",
    "In this tutorial, you learned about differential privacy (DP) and how you can implement DP principles in existing ML algorithms to provide privacy guarantees for training data. In particular, you learned how to:\n",
    "*   Wrap existing optimizers (e.g., SGD, Adam) into their differentially private counterparts using TensorFlow Privacy\n",
    "*   Tune hyperparameters introduced by differentially private machine learning\n",
    "*   Measure the privacy guarantee provided using analysis tools included in TensorFlow Privacy"
   ]
  }
 ],
 "metadata": {
  "colab": {
   "collapsed_sections": [],
   "name": "Classification_Privacy.ipynb",
   "provenance": [],
   "toc_visible": true
  },
  "kernelspec": {
   "display_name": "Python 3",
   "language": "python",
   "name": "python3"
  },
  "language_info": {
   "codemirror_mode": {
    "name": "ipython",
    "version": 3
   },
   "file_extension": ".py",
   "mimetype": "text/x-python",
   "name": "python",
   "nbconvert_exporter": "python",
   "pygments_lexer": "ipython3",
   "version": "3.7.4"
  }
 },
 "nbformat": 4,
 "nbformat_minor": 1
}
