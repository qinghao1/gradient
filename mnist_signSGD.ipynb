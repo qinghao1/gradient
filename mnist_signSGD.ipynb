{
 "cells": [
  {
   "cell_type": "code",
   "execution_count": 1,
   "metadata": {
    "colab": {},
    "colab_type": "code",
    "id": "ef56gCUqrdVn"
   },
   "outputs": [
    {
     "name": "stderr",
     "output_type": "stream",
     "text": [
      "Using TensorFlow backend.\n"
     ]
    }
   ],
   "source": [
    "import numpy as np\n",
    "import math, random\n",
    "from tqdm.notebook import tqdm\n",
    "from tensorflow_privacy.privacy.optimizers.dp_optimizer import *\n",
    "import pandas as pd\n",
    "import seaborn as sns\n",
    "from tensorflow.keras.callbacks import EarlyStopping\n",
    "from keras_tqdm import TQDMNotebookCallback\n",
    "import matplotlib.pyplot as plt\n",
    "import random; random.seed(42)\n",
    "\n",
    "import os\n",
    "os.environ[\"CUDA_VISIBLE_DEVICES\"] = \"2\"\n",
    "import tensorflow as tf\n",
    "\n",
    "%load_ext autoreload\n",
    "%autoreload 2\n",
    "\n",
    "tf.compat.v1.enable_eager_execution()\n",
    "assert tf.executing_eagerly"
   ]
  },
  {
   "cell_type": "markdown",
   "metadata": {
    "colab_type": "text",
    "id": "qXNp_25y7JP2"
   },
   "source": [
    "DP-SGD has three privacy-specific hyperparameters and one existing hyperamater that you must tune:\n",
    "\n",
    "1. `l2_norm_clip` (float) - The maximum Euclidean (L2) norm of each gradient that is applied to update model parameters. This hyperparameter is used to bound the optimizer's sensitivity to individual training points. \n",
    "2. `noise_multiplier` (float) - The amount of noise sampled and added to gradients during training. Generally, more noise results in better privacy (often, but not necessarily, at the expense of lower utility).\n",
    "3.   `microbatches` (int) - Each batch of data is split in smaller units called microbatches. By default, each microbatch should contain a single training example. This allows us to clip gradients on a per-example basis rather than after they have been averaged across the minibatch. This in turn decreases the (negative) effect of clipping on signal found in the gradient and typically maximizes utility. However, computational overhead can be reduced by increasing the size of microbatches to include more than one training examples. The average gradient across these multiple training examples is then clipped. The total number of examples consumed in a batch, i.e., one step of gradient descent, remains the same. The number of microbatches should evenly divide the batch size. "
   ]
  },
  {
   "cell_type": "code",
   "execution_count": 2,
   "metadata": {
    "colab": {},
    "colab_type": "code",
    "id": "pVw_r2Mq7ntd"
   },
   "outputs": [],
   "source": [
    "# Hyperparameters\n",
    "\n",
    "epochs = 2\n",
    "batch_size = 125\n",
    "public_data_size = 250 # Multiple of batch_size\n",
    "l2_norm_clip = 0.5\n",
    "noise_multiplier = 1\n",
    "num_microbatches = batch_size\n",
    "learning_rate=1e-3\n",
    "\n",
    "if batch_size % num_microbatches != 0:\n",
    "  raise ValueError('Batch size should be an integer multiple of the number of microbatches')"
   ]
  },
  {
   "cell_type": "code",
   "execution_count": 3,
   "metadata": {
    "colab": {},
    "colab_type": "code",
    "id": "_1ML23FlueTr"
   },
   "outputs": [],
   "source": [
    "train, test = tf.keras.datasets.mnist.load_data()\n",
    "train_data, train_labels = train\n",
    "test_data, test_labels = test\n",
    "\n",
    "train_data = np.array(train_data, dtype=np.float32) / 255\n",
    "test_data = np.array(test_data, dtype=np.float32) / 255\n",
    "train_data = np.expand_dims(train_data, len(train_data.shape))\n",
    "test_data = np.expand_dims(test_data, len(test_data.shape))\n",
    "\n",
    "train_labels = np.array(train_labels, dtype=np.int32)\n",
    "test_labels = np.array(test_labels, dtype=np.int32)\n",
    "\n",
    "train_labels = tf.keras.utils.to_categorical(train_labels, num_classes=10)\n",
    "test_labels = tf.keras.utils.to_categorical(test_labels, num_classes=10)\n",
    "\n",
    "assert train_data.min() == 0.\n",
    "assert train_data.max() == 1.\n",
    "assert test_data.min() == 0.\n",
    "assert test_data.max() == 1."
   ]
  },
  {
   "cell_type": "code",
   "execution_count": 4,
   "metadata": {},
   "outputs": [],
   "source": [
    "from sklearn.model_selection import train_test_split\n",
    "\n",
    "# test_size refers to private data size\n",
    "test_size = (train_data.shape[0] - public_data_size) / train_data.shape[0]\n",
    "\n",
    "public_data, private_data, public_labels, private_labels = \\\n",
    "    train_test_split(train_data, train_labels, test_size=test_size)\n",
    "\n",
    "num_batches = private_data.shape[0] // batch_size"
   ]
  },
  {
   "cell_type": "code",
   "execution_count": 5,
   "metadata": {},
   "outputs": [
    {
     "name": "stdout",
     "output_type": "stream",
     "text": [
      "(250, 28, 28, 1)\n",
      "(250, 10)\n",
      "(59750, 28, 28, 1)\n",
      "(59750, 10)\n"
     ]
    }
   ],
   "source": [
    "print(public_data.shape)\n",
    "print(public_labels.shape)\n",
    "print(private_data.shape)\n",
    "print(private_labels.shape)"
   ]
  },
  {
   "cell_type": "code",
   "execution_count": 6,
   "metadata": {
    "colab": {},
    "colab_type": "code",
    "id": "ws8-nVuVDgtJ"
   },
   "outputs": [
    {
     "name": "stdout",
     "output_type": "stream",
     "text": [
      "DP-SGD with sampling rate = 0.209% and noise_multiplier = 1 iterated over 956 steps satisfies differential privacy with eps = 1.12 and delta = 1e-05.\n",
      "The optimal RDP order is 12.0.\n"
     ]
    }
   ],
   "source": [
    "from tensorflow_privacy.privacy.analysis import compute_dp_sgd_privacy\n",
    "\n",
    "n = private_labels.shape[0]\n",
    "delta = 1e-5\n",
    "epsilon, _ = compute_dp_sgd_privacy.compute_dp_sgd_privacy(\n",
    "    n=n, batch_size=batch_size, noise_multiplier=noise_multiplier, epochs=epochs, delta=delta)"
   ]
  },
  {
   "cell_type": "code",
   "execution_count": 7,
   "metadata": {
    "colab": {},
    "colab_type": "code",
    "id": "bqBvjCf5-ZXy"
   },
   "outputs": [],
   "source": [
    "# CNN model from the paper\n",
    "from tensorflow.keras.layers import Dense, Dropout, Activation, Flatten\n",
    "from tensorflow.keras.layers import Conv2D, MaxPooling2D\n",
    "\n",
    "def cnn_model():\n",
    "    model = tf.keras.models.Sequential()\n",
    "    model.add(Flatten(input_shape=train_data.shape[1:]))\n",
    "    model.add(Dense(60, activation='linear', use_bias=False))\n",
    "    model.add(Dense(1000, activation='relu'))\n",
    "    model.add(Dense(10, activation='softmax'))\n",
    "    \n",
    "    model.load_weights('mnist_abadi_weights.h5')\n",
    "    \n",
    "    return model"
   ]
  },
  {
   "cell_type": "code",
   "execution_count": 21,
   "metadata": {
    "colab": {},
    "colab_type": "code",
    "id": "ws8-nVuVDgtJ"
   },
   "outputs": [
    {
     "name": "stdout",
     "output_type": "stream",
     "text": [
      "343.5840508521896\n"
     ]
    }
   ],
   "source": [
    "# L2 norm clip for Gaussian + sign sgd\n",
    "num_params = cnn_model().count_params()\n",
    "sign_l2_norm_clip = math.sqrt(num_params)\n",
    "print(sign_l2_norm_clip)"
   ]
  },
  {
   "cell_type": "code",
   "execution_count": 20,
   "metadata": {},
   "outputs": [
    {
     "name": "stdout",
     "output_type": "stream",
     "text": [
      "0.5000011899403002\n"
     ]
    }
   ],
   "source": [
    "# Compute appropriate parameters for randomized response\n",
    "\n",
    "sampling_ratio = batch_size / n\n",
    "num_steps = int(math.ceil(epochs * n / batch_size))\n",
    "# This is basic composition. TODO: change to advanced composition\n",
    "single_step_epsilon = epsilon / num_steps / sampling_ratio\n",
    "\n",
    "def sigmoid(x):\n",
    "    return 1 / (1 + math.exp(-x))\n",
    "rr_preserve_prob = sigmoid(single_step_epsilon / num_params)\n",
    "print(rr_preserve_prob)"
   ]
  },
  {
   "cell_type": "code",
   "execution_count": 9,
   "metadata": {},
   "outputs": [],
   "source": [
    "loss_fn = tf.keras.losses.CategoricalCrossentropy(\n",
    "    from_logits=True, reduction=tf.losses.Reduction.NONE)"
   ]
  },
  {
   "cell_type": "code",
   "execution_count": 10,
   "metadata": {},
   "outputs": [],
   "source": [
    "def get_public_grads_mean_var(public_x, public_y, loss_fn, model):\n",
    "    # x needs to have extra dimension for number of examples,\n",
    "    # even if it's 1 for our case\n",
    "    public_x = np.expand_dims(public_x, axis=1)\n",
    "    # https://math.stackexchange.com/questions/20593/calculate-variance-from-a-stream-of-sample-values\n",
    "    mean_k = None\n",
    "    v_k = None\n",
    "    k = 0\n",
    "    for x, y in zip(public_x, public_y):\n",
    "        k += 1\n",
    "        with tf.GradientTape() as tape:\n",
    "            loss_value = loss_fn(y, model(x))\n",
    "            grad = tape.gradient(loss_value, model.trainable_weights)\n",
    "        numpy_grad = [t.numpy() for t in grad]\n",
    "        if k == 1:\n",
    "            mean_k = numpy_grad\n",
    "            v_k = [np.zeros(t.shape) for t in numpy_grad]\n",
    "        else:\n",
    "            prev_mean_k = mean_k\n",
    "            mean_k = [mean_k[i] + (t - mean_k[i]) / k for i, t in enumerate(numpy_grad)]\n",
    "            v_k = [v_k[i] +  np.multiply(t - prev_mean_k[i], \n",
    "                                         t - mean_k[i]) \n",
    "                   for i, t in enumerate(numpy_grad)]\n",
    "    unbiased_variance = [t / (k - 1) for t in v_k]\n",
    "    return mean_k, unbiased_variance\n",
    "\n",
    "def get_grads_mean(xs, ys, loss_fn, model, \n",
    "                      l2_norm_clip=None, noise_multiplier=None, rr_preserve_prob=None, sign=False, dp=False):\n",
    "    xs = np.expand_dims(xs, axis=1)\n",
    "    n = xs.shape[0]\n",
    "    \n",
    "    grads_mean = None\n",
    "    for i, (x, y) in enumerate(zip(xs, ys)):\n",
    "        with tf.GradientTape() as tape:\n",
    "            loss_value = loss_fn(y, model(x))\n",
    "        grad = [t.numpy() for t in tape.gradient(loss_value, model.trainable_weights)]\n",
    "        if sign:\n",
    "            grad = [np.sign(t) for t in grad]\n",
    "        if dp:\n",
    "            grad = make_grad_dp_gaussian(grad, l2_norm_clip, noise_multiplier)\n",
    "        if sign and dp:\n",
    "            # Sign again\n",
    "            grad = [np.sign(t) for t in grad]\n",
    "        if not grads_mean:\n",
    "            grads_mean = [np.zeros(l.shape, dtype=np.float32) for l in grad]\n",
    "        grads_mean = [grads_mean[j] + (l - grads_mean[j]) / (i+1) for j, l in enumerate(grad)]\n",
    "    return grads_mean\n",
    "\n",
    "def get_grad_norm(grad):\n",
    "    summed = sum([np.sum(np.square(layer)) for layer in grad])\n",
    "    return math.sqrt(summed)\n",
    "\n",
    "def clip_grad(grad, l2_norm_clip):\n",
    "    norm_scale = l2_norm_clip / get_grad_norm(grad)\n",
    "    scaled_grad = [t * norm_scale for t in grad]\n",
    "    return scaled_grad\n",
    "    \n",
    "def make_grad_dp_gaussian(grad, l2_norm_clip, noise_multiplier):\n",
    "    clipped_grad = clip_grad(grad, l2_norm_clip)\n",
    "    noised_grad = [t + np.random.normal(0, l2_norm_clip * noise_multiplier, t.shape).astype(np.float32)\n",
    "                        for t in clipped_grad]\n",
    "    return noised_grad\n",
    "\n",
    "def random_binary_arr(arr):\n",
    "    bool_arr = np.random.randint(2, size=arr.shape)\n",
    "    bool_arr[bool_arr == 0] = -1\n",
    "    return bool_arr\n",
    "\n",
    "def random_grad(grad):\n",
    "    return [random_binary_arr(t) for t in grad]\n",
    "\n",
    "def make_grad_sign_dp_rr(grad, preserve_prob):\n",
    "    grad = [np.sign(t) for t in grad]\n",
    "    choice = [np.random.uniform(size=t.shape) for t in grad]\n",
    "    mask = [t <= preserve_prob for t in choice]\n",
    "    for i, rdm in enumerate(random_grad(grad)):\n",
    "        grad[i][mask[i]] = rdm[mask[i]]\n",
    "    return grad\n",
    "\n",
    "def evaluate_model(model, loss_fn, x, y):\n",
    "    pred = model(x)\n",
    "    loss = np.mean(loss_fn(y, pred).numpy())\n",
    "    acc = np.mean(tf.keras.metrics.categorical_accuracy(y, pred).numpy())\n",
    "    return (loss, acc)"
   ]
  },
  {
   "cell_type": "code",
   "execution_count": 11,
   "metadata": {},
   "outputs": [],
   "source": [
    "# from tensorflow.keras.callbacks import EarlyStopping\n",
    "\n",
    "# pretrained_model = cnn_model()\n",
    "# pretrained_model.compile(optimizer='adam',\n",
    "#                        loss=loss_fn, metrics=['accuracy'])\n",
    "# baseline_history = pretrained_model.fit(public_data, public_labels,\n",
    "#                     epochs=50,\n",
    "#                     batch_size=batch_size,\n",
    "#                     verbose=0,\n",
    "#                     callbacks=[TQDMNotebookCallback(), EarlyStopping(monitor='acc', patience=5)])\n",
    "# evaluate_model(pretrained_model, loss_fn, test_data, test_labels)"
   ]
  },
  {
   "cell_type": "code",
   "execution_count": 12,
   "metadata": {
    "colab": {},
    "colab_type": "code",
    "id": "z4iV03VqG1Bo"
   },
   "outputs": [],
   "source": [
    "normal_sgd_model = cnn_model()\n",
    "normal_sgd_optimizer = DPGradientDescentGaussianOptimizer(\n",
    "    l2_norm_clip=l2_norm_clip,\n",
    "    noise_multiplier=noise_multiplier,\n",
    "    num_microbatches=num_microbatches,\n",
    "    learning_rate=learning_rate)\n",
    "normal_sgd_model.compile(optimizer=normal_sgd_optimizer, loss=loss_fn, metrics=['accuracy'])\n",
    "\n",
    "sign_sgd_model = cnn_model()\n",
    "sign_sgd_optimizer = DPGradientDescentGaussianOptimizer(\n",
    "    l2_norm_clip=l2_norm_clip,\n",
    "    noise_multiplier=noise_multiplier,\n",
    "    num_microbatches=num_microbatches,\n",
    "    learning_rate=learning_rate)\n",
    "sign_sgd_model.compile(optimizer=sign_sgd_optimizer, loss=loss_fn, metrics=['accuracy'])\n",
    "\n",
    "dp_sign_sgd_model = cnn_model()\n",
    "dp_sign_sgd_optimizer = DPGradientDescentGaussianOptimizer(\n",
    "    l2_norm_clip=l2_norm_clip,\n",
    "    noise_multiplier=noise_multiplier,\n",
    "    num_microbatches=num_microbatches,\n",
    "    learning_rate=learning_rate)\n",
    "dp_sign_sgd_model.compile(optimizer=dp_sign_sgd_optimizer, loss=loss_fn, metrics=['accuracy'])\n",
    "\n",
    "dpsgd_model = cnn_model()\n",
    "dpsgd_optimizer = DPGradientDescentGaussianOptimizer(\n",
    "    l2_norm_clip=l2_norm_clip,\n",
    "    noise_multiplier=noise_multiplier,\n",
    "    num_microbatches=num_microbatches,\n",
    "    learning_rate=learning_rate)\n",
    "dpsgd_model.compile(optimizer=dpsgd_optimizer, loss=loss_fn, metrics=['accuracy'])\n",
    "\n",
    "# custom_model_pretrained = cnn_model()\n",
    "# custom_model_pretrained.set_weights(pretrained_model.get_weights())\n",
    "# custom_optimizer_pretrained = DPGradientDescentGaussianOptimizer(\n",
    "#     l2_norm_clip=l2_norm_clip,\n",
    "#     noise_multiplier=noise_multiplier,\n",
    "#     num_microbatches=num_microbatches,\n",
    "#     learning_rate=learning_rate)\n",
    "# custom_model_pretrained.compile(optimizer=custom_optimizer_pretrained, loss=loss_fn, metrics=['accuracy'])\n",
    "\n",
    "# dpsgd_model_pretrained = cnn_model()\n",
    "# dpsgd_model_pretrained.set_weights(pretrained_model.get_weights())\n",
    "# dpsgd_optimizer_pretrained = DPGradientDescentGaussianOptimizer(\n",
    "#     l2_norm_clip=l2_norm_clip,\n",
    "#     noise_multiplier=noise_multiplier,\n",
    "#     num_microbatches=num_microbatches,\n",
    "#     learning_rate=learning_rate)\n",
    "# dpsgd_model_pretrained.compile(optimizer=dpsgd_optimizer_pretrained, loss=loss_fn, metrics=['accuracy'])"
   ]
  },
  {
   "cell_type": "code",
   "execution_count": 13,
   "metadata": {
    "scrolled": true
   },
   "outputs": [
    {
     "data": {
      "application/vnd.jupyter.widget-view+json": {
       "model_id": "1ec920c2ec7a4020ae81449c33bfad56",
       "version_major": 2,
       "version_minor": 0
      },
      "text/plain": [
       "HBox(children=(IntProgress(value=0, description='Epoch', max=2, style=ProgressStyle(description_width='initial…"
      ]
     },
     "metadata": {},
     "output_type": "display_data"
    },
    {
     "data": {
      "application/vnd.jupyter.widget-view+json": {
       "model_id": "",
       "version_major": 2,
       "version_minor": 0
      },
      "text/plain": [
       "HBox(children=(IntProgress(value=0, description='Batch', max=478, style=ProgressStyle(description_width='initi…"
      ]
     },
     "metadata": {},
     "output_type": "display_data"
    },
    {
     "name": "stdout",
     "output_type": "stream",
     "text": [
      "WARNING:tensorflow:Calling GradientTape.gradient on a persistent tape inside its context is significantly less efficient than calling it outside the context (it causes the gradient ops to be recorded on the tape, leading to increased CPU and memory usage). Only call GradientTape.gradient inside the context if you actually want to trace the gradient in order to compute higher order derivatives.\n",
      "WARNING:tensorflow:From /home/qinghao/anaconda3/lib/python3.7/site-packages/tensorflow_core/python/ops/array_grad.py:562: _EagerTensorBase.cpu (from tensorflow.python.framework.ops) is deprecated and will be removed in a future version.\n",
      "Instructions for updating:\n",
      "Use tf.identity instead.\n",
      "WARNING:tensorflow:From /home/qinghao/anaconda3/lib/python3.7/site-packages/tensorflow_core/python/ops/clip_ops.py:301: where (from tensorflow.python.ops.array_ops) is deprecated and will be removed in a future version.\n",
      "Instructions for updating:\n",
      "Use tf.where in 2.0, which has the same broadcast rule as np.where\n"
     ]
    },
    {
     "data": {
      "application/vnd.jupyter.widget-view+json": {
       "model_id": "",
       "version_major": 2,
       "version_minor": 0
      },
      "text/plain": [
       "HBox(children=(IntProgress(value=0, description='Batch', max=478, style=ProgressStyle(description_width='initi…"
      ]
     },
     "metadata": {},
     "output_type": "display_data"
    },
    {
     "name": "stdout",
     "output_type": "stream",
     "text": [
      "\n"
     ]
    }
   ],
   "source": [
    "# Iterate over epochs.\n",
    "normal_sgd_loss_batches = []\n",
    "normal_sgd_acc_batches = []\n",
    "\n",
    "sign_sgd_loss_batches = []\n",
    "sign_sgd_acc_batches = []\n",
    "\n",
    "dp_sign_sgd_loss_batches = []\n",
    "dp_sign_sgd_acc_batches = []\n",
    "\n",
    "dpsgd_loss_batches = []\n",
    "dpsgd_acc_batches = []\n",
    "\n",
    "dpsgd_loss_pretrained_batches = []\n",
    "dpsgd_acc_pretrained_batches = []\n",
    "\n",
    "# Used for picking a random minibatch\n",
    "idx_array = np.arange(private_data.shape[0])\n",
    "\n",
    "for epoch in tqdm(range(epochs), desc='Epoch'):\n",
    "\n",
    "    # Iterate over the batches of the dataset.\n",
    "    for step in tqdm(range(num_batches), desc='Batch', leave=False):\n",
    "        \n",
    "        # Pick a random minibatch\n",
    "        random_idx = np.random.choice(idx_array, batch_size, replace=False)\n",
    "        x_batch_train = private_data[random_idx]\n",
    "        y_batch_train = private_labels[random_idx]\n",
    "        \n",
    "        ### Normal SGD\n",
    "        \n",
    "        # Evaluate model\n",
    "        loss, acc = evaluate_model(normal_sgd_model, loss_fn, test_data, test_labels)\n",
    "        normal_sgd_loss_batches.append(loss)\n",
    "        normal_sgd_acc_batches.append(acc)\n",
    "        \n",
    "        with tf.GradientTape() as tape:\n",
    "            loss_val = loss_fn(y_batch_train, normal_sgd_model(x_batch_train)) # Compute loss value\n",
    "            \n",
    "        grads = tape.gradient(loss_val, normal_sgd_model.trainable_variables)\n",
    "        normal_sgd_optimizer.apply_gradients(zip(grads, normal_sgd_model.trainable_variables))\n",
    "        \n",
    "        ### Sign SGD\n",
    "        \n",
    "        # Evaluate model\n",
    "        loss, acc = evaluate_model(sign_sgd_model, loss_fn, test_data, test_labels)\n",
    "        sign_sgd_loss_batches.append(loss)\n",
    "        sign_sgd_acc_batches.append(acc)\n",
    "        \n",
    "        grads = get_grads_mean(\n",
    "            x_batch_train, y_batch_train, loss_fn, sign_sgd_model, \n",
    "            rr_preserve_prob=rr_preserve_prob, sign=True, dp=False)\n",
    "        \n",
    "        sign_sgd_optimizer.apply_gradients(zip(grads, sign_sgd_model.trainable_variables))\n",
    "        \n",
    "        ### DP SignSGD\n",
    "        \n",
    "        # Evaluate model\n",
    "        loss, acc = evaluate_model(dp_sign_sgd_model, loss_fn, test_data, test_labels)\n",
    "        dp_sign_sgd_loss_batches.append(loss)\n",
    "        dp_sign_sgd_acc_batches.append(acc)\n",
    "        \n",
    "        grads = get_grads_mean(\n",
    "            x_batch_train, y_batch_train, loss_fn, dp_sign_sgd_model, \n",
    "            l2_norm_clip=sign_l2_norm_clip, noise_multiplier=noise_multiplier, sign=True, dp=True)\n",
    "        \n",
    "        dp_sign_sgd_optimizer.apply_gradients(zip(grads, dp_sign_sgd_model.trainable_variables))\n",
    "        \n",
    "        ### Normal DPSGD\n",
    "    \n",
    "        # Evaluate DPSGD model\n",
    "        loss, acc = evaluate_model(dpsgd_model, loss_fn, test_data, test_labels)\n",
    "#         print('DPSGD Loss: %.4f | Acc: %.4f' % (loss, acc))\n",
    "        dpsgd_loss_batches.append(loss)\n",
    "        dpsgd_acc_batches.append(acc)\n",
    "    \n",
    "        # Open a GradientTape to record the operations run\n",
    "        # during the forward pass, which enables autodifferentiation.\n",
    "        with tf.GradientTape(persistent=True) as tape:\n",
    "\n",
    "            # Run the forward pass of the layer.\n",
    "            # The operations that the layer applies\n",
    "            # to its inputs are going to be recorded\n",
    "            # on the GradientTape.\n",
    "            logits = dpsgd_model(x_batch_train)  # Logits for this minibatch\n",
    "\n",
    "            # Compute the loss value for this minibatch.\n",
    "            loss = lambda: loss_fn(y_batch_train, logits)\n",
    "\n",
    "            # Use the gradient tape to automatically retrieve\n",
    "            # the gradients of the trainable variables with respect to the loss.\n",
    "            grads = dpsgd_optimizer.compute_gradients(\n",
    "                loss, dpsgd_model.trainable_weights, gradient_tape=tape)\n",
    "\n",
    "        del tape\n",
    "\n",
    "        # Run one step of gradient descent by updating\n",
    "        # the value of the variables to minimize the loss.\n",
    "        dpsgd_optimizer.apply_gradients(grads)\n",
    "        \n",
    "#         ### Normal DPSGD pretrained\n",
    "    \n",
    "#         # Evaluate DPSGD model\n",
    "#         loss, acc = evaluate_model(dpsgd_model_pretrained, loss_fn, test_data, test_labels)\n",
    "# #         print('DPSGD Loss: %.4f | Acc: %.4f' % (loss, acc))\n",
    "#         dpsgd_loss_pretrained_batches.append(loss)\n",
    "#         dpsgd_acc_pretrained_batches.append(acc)\n",
    "    \n",
    "#         # Open a GradientTape to record the operations run\n",
    "#         # during the forward pass, which enables autodifferentiation.\n",
    "#         with tf.GradientTape(persistent=True) as tape:\n",
    "\n",
    "#             # Run the forward pass of the layer.\n",
    "#             # The operations that the layer applies\n",
    "#             # to its inputs are going to be recorded\n",
    "#             # on the GradientTape.\n",
    "#             logits = dpsgd_model_pretrained(x_batch_train)  # Logits for this minibatch\n",
    "\n",
    "#             # Compute the loss value for this minibatch.\n",
    "#             loss = lambda: loss_fn(y_batch_train, logits)\n",
    "\n",
    "#             # Use the gradient tape to automatically retrieve\n",
    "#             # the gradients of the trainable variables with respect to the loss.\n",
    "#             grads = dpsgd_optimizer_pretrained.compute_gradients(\n",
    "#                 loss, dpsgd_model_pretrained.trainable_weights, gradient_tape=tape)\n",
    "\n",
    "#         del tape\n",
    "\n",
    "#         # Run one step of gradient descent by updating\n",
    "#         # the value of the variables to minimize the loss.\n",
    "#         dpsgd_optimizer_pretrained.apply_gradients(grads)"
   ]
  },
  {
   "cell_type": "code",
   "execution_count": 14,
   "metadata": {},
   "outputs": [
    {
     "name": "stdout",
     "output_type": "stream",
     "text": [
      "(1.6245593, 0.8456)\n",
      "(1.8106441, 0.6461)\n",
      "(2.2979565, 0.1653)\n",
      "(2.2979715, 0.1659)\n"
     ]
    }
   ],
   "source": [
    "print(evaluate_model(normal_sgd_model, loss_fn, test_data, test_labels))\n",
    "print(evaluate_model(sign_sgd_model, loss_fn, test_data, test_labels))\n",
    "print(evaluate_model(dp_sign_sgd_model, loss_fn, test_data, test_labels))\n",
    "print(evaluate_model(dpsgd_model, loss_fn, test_data, test_labels))"
   ]
  },
  {
   "cell_type": "code",
   "execution_count": 17,
   "metadata": {},
   "outputs": [
    {
     "name": "stdout",
     "output_type": "stream",
     "text": [
      "     non-dp_acc  signsgd_acc  dp-signsgd_acc  dpsgd_acc\n",
      "0        0.1182       0.1182          0.1182     0.1182\n",
      "1        0.1253       0.1324          0.1177     0.1183\n",
      "2        0.1346       0.1535          0.1177     0.1183\n",
      "3        0.1361       0.1629          0.1179     0.1184\n",
      "4        0.1417       0.1741          0.1178     0.1184\n",
      "..          ...          ...             ...        ...\n",
      "951      0.8464       0.6510          0.1653     0.1651\n",
      "952      0.8454       0.6473          0.1647     0.1653\n",
      "953      0.8442       0.6390          0.1646     0.1654\n",
      "954      0.8451       0.6451          0.1646     0.1656\n",
      "955      0.8457       0.6469          0.1651     0.1658\n",
      "\n",
      "[956 rows x 4 columns]\n"
     ]
    }
   ],
   "source": [
    "metrics = pd.DataFrame({\n",
    "                        'non-dp_acc': normal_sgd_acc_batches,\n",
    "                        'signsgd_acc': sign_sgd_acc_batches,\n",
    "                        'dp-signsgd_acc': dp_sign_sgd_acc_batches,\n",
    "                        'dpsgd_acc': dpsgd_acc_batches,\n",
    "                       })\n",
    "print(metrics)"
   ]
  },
  {
   "cell_type": "code",
   "execution_count": 18,
   "metadata": {},
   "outputs": [
    {
     "data": {
      "image/png": "[encoded data removed]",
      "text/plain": [
       "<Figure size 1152x720 with 1 Axes>"
      ]
     },
     "metadata": {},
     "output_type": "display_data"
    }
   ],
   "source": [
    "sns.set(rc={'figure.figsize':(16, 10)})\n",
    "ax = sns.lineplot(data=metrics)\n",
    "# ax.set(ylim=(0,1))\n",
    "ax.set(xlabel='Minibatch', ylabel='Acc', \n",
    "       title='MNIST Sign SGD (Norm Clip={}, Public Size={})'.format(l2_norm_clip, public_data_size))\n",
    "plt.savefig('mnist_abadi_signSGD_dpsgd-norm{}_public{}_dp-only.png'\n",
    "                    .format(l2_norm_clip, public_data_size))"
   ]
  },
  {
   "cell_type": "code",
   "execution_count": null,
   "metadata": {},
   "outputs": [],
   "source": []
  }
 ],
 "metadata": {
  "colab": {
   "collapsed_sections": [],
   "name": "Classification_Privacy.ipynb",
   "provenance": [],
   "toc_visible": true
  },
  "kernelspec": {
   "display_name": "Python 3",
   "language": "python",
   "name": "python3"
  },
  "language_info": {
   "codemirror_mode": {
    "name": "ipython",
    "version": 3
   },
   "file_extension": ".py",
   "mimetype": "text/x-python",
   "name": "python",
   "nbconvert_exporter": "python",
   "pygments_lexer": "ipython3",
   "version": "3.7.4"
  }
 },
 "nbformat": 4,
 "nbformat_minor": 4
}
